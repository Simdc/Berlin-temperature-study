{
 "cells": [
  {
   "cell_type": "code",
   "execution_count": null,
   "id": "c6eab4f3",
   "metadata": {
    "lines_to_next_cell": 2
   },
   "outputs": [],
   "source": []
  },
  {
   "cell_type": "code",
   "execution_count": null,
   "id": "2c56b0a5",
   "metadata": {},
   "outputs": [],
   "source": [
    "\n",
    "\n",
    "from database_functions import *\n",
    "#updated using jupytext"
   ]
  },
  {
   "cell_type": "code",
   "execution_count": null,
   "id": "2da5c3c9",
   "metadata": {},
   "outputs": [],
   "source": [
    "\n",
    "#################################################################################\n",
    "#This block imports datafiles from the address,\n",
    "#Example:C:\\Users\\s9dhc\\OneDrive\\Desktop\\project climate\\LCZ_2\n",
    "##################################################################################\n",
    "try:\n",
    "    print('Enter address:\\n')\n",
    "    print(\"Example: C:\\..Users\\s9dhc\\OneDrive\\Desktop\\project climate\\LCZ_2\\n\")\n",
    "    address = input(r'')\n",
    "    df = read_Dat(address)\n",
    "    print('Succesfully loaded data')\n",
    "except:\n",
    "    raise ValueError('Could not import datafiles, check address and files')\n",
    "###################################################################################\n",
    "\n",
    "\n",
    "\n",
    "#################################################################################\n",
    "#This block of code is used to merge the data of different dates but same\n",
    "#location, here in the loaded file we have multiple files for same place,\n",
    "#for example: if we have 1 place and three files then frequency is 1,\n",
    "#if we have 3 places and 3 files for each place then frequency is 3.\n",
    "#################################################################################\n",
    "print(\"Frequency of vertical merging:\\n\")\n",
    "freq1 = input()\n",
    "\n",
    "merged_data = vertical_merge_test(df, int(freq1))\n",
    "print(merged_data)\n",
    "##################################################################################\n",
    "\n",
    "\n",
    "print(\"Frequency of dataframe concatenation:\\n\")\n",
    "freq2 = input()\n",
    "T = []\n",
    "\n",
    "if freq2 == 0:\n",
    "    print('After vertical merging we have only one dataset')\n",
    "    T = [T1]\n",
    "else:\n",
    "    for i in range(0,int(freq2)+1):\n",
    "        T.append(\"T{0}\".format(i))\n",
    "\n",
    "print(T)\n",
    "#################################################################################\n",
    "#Creating a dataset by merging the new datasets\n",
    "#################################################################################\n",
    "new = pd.DataFrame()\n",
    "new = custom_combine(new , merged_data, T)\n",
    "#new = custom_combine(new , merged_data, [\"T1\", \"T2\",\"T3\", \"T4\"])\n",
    "new.set_index(\"Datetime\")\n",
    "print('Full data:')\n",
    "new[\"average\"] = new.mean(numeric_only = True,axis=1)\n",
    "new = new.set_index(\"Datetime\")\n",
    "#new\n",
    "#################################################################################"
   ]
  },
  {
   "cell_type": "code",
   "execution_count": null,
   "id": "6c541626",
   "metadata": {},
   "outputs": [],
   "source": [
    "#################################################################################\n",
    "#Getting night-time data\n",
    "#################################################################################\n",
    "new_00_40 = (new.between_time(\"00:00:00\",\"04:00:00\"))\n",
    "new_00_40.plot( y=\"average\",figsize=(12,4))\n",
    "#plt.show()\n",
    "full_print(new_00_40)\n",
    "#plt.pause(5)\n",
    "#plt.close(\"all\")\n",
    "#################################################################################\n",
    "\n",
    "\n",
    "\n",
    "print(\"Enter name for dataframe file:\")\n",
    "data_frame_name =input(r'')\n",
    "data_frame_name = data_frame_name + '.dat'\n",
    "new_00_40.reset_index(False)\n",
    "new_00_40.to_csv(data_frame_name, index=True)"
   ]
  }
 ],
 "metadata": {
  "jupytext": {
   "cell_metadata_filter": "-all",
   "encoding": "# coding: utf-8",
   "executable": "/usr/bin/env python",
   "formats": "ipynb,py"
  },
  "kernelspec": {
   "display_name": "Python 3 (ipykernel)",
   "language": "python",
   "name": "python3"
  },
  "language_info": {
   "codemirror_mode": {
    "name": "ipython",
    "version": 3
   },
   "file_extension": ".py",
   "mimetype": "text/x-python",
   "name": "python",
   "nbconvert_exporter": "python",
   "pygments_lexer": "ipython3",
   "version": "3.9.12"
  }
 },
 "nbformat": 4,
 "nbformat_minor": 5
}
