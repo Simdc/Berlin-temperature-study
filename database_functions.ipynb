{
 "cells": [
  {
   "cell_type": "code",
   "execution_count": 1,
   "id": "9108a6dc",
   "metadata": {},
   "outputs": [],
   "source": [
    "from os import listdir\n",
    "from os.path import isfile, join\n",
    "\n",
    "import pandas as pd\n",
    "import matplotlib.pyplot as plt\n",
    "import numpy as np\n",
    "\n",
    "from termcolor import colored\n"
   ]
  },
  {
   "cell_type": "code",
   "execution_count": 2,
   "id": "6c641ac6",
   "metadata": {},
   "outputs": [],
   "source": [
    "def full_print(dataframe):\n",
    "    with pd.option_context('display.max_rows', None, 'display.max_columns', None):  # more options can be specified also\n",
    "\n",
    "        print(dataframe)\n",
    "        \n",
    "    return None\n"
   ]
  },
  {
   "cell_type": "code",
   "execution_count": 3,
   "id": "def66133",
   "metadata": {},
   "outputs": [],
   "source": [
    "def vertical_merge(all_dataframe,frequency, index):\n",
    "    \n",
    "    if frequency==4:\n",
    "        print('all_dataframes[0,1,2] is contained in df_merge[0] and so on')\n",
    "        \n",
    "        df_merge = []\n",
    "        df_merge.append(pd.concat([all_dataframe[0],all_dataframe[1],all_dataframe[2]]))\n",
    "        df_merge.append(pd.concat([all_dataframe[3],all_dataframe[4],all_dataframe[5]]))\n",
    "        df_merge.append(pd.concat([all_dataframe[6],all_dataframe[7],all_dataframe[8]]))\n",
    "        df_merge.append(pd.concat([all_dataframe[9],all_dataframe[10],all_dataframe[11]]))\n",
    "        \n",
    "       \n",
    "    \n",
    "    return df_merge"
   ]
  },
  {
   "cell_type": "code",
   "execution_count": 4,
   "id": "38c3fcb2",
   "metadata": {},
   "outputs": [],
   "source": [
    "def custom_definition(all_dataframes, number_of_files):\n",
    "    \n",
    "    print('Forming Datetime column by combining different columns. Building block(columns) are then removed.')\n",
    "\n",
    "    for i in range(0,number_of_files):\n",
    "            all_dataframes[i][\"time\"] = (pd.to_datetime(all_dataframes[i]['HH'].astype(str) + ':' + all_dataframes[i]['MM'].astype(str), format='%H:%M').dt.time)\n",
    "            all_dataframes[i][\"Datetime\"] = pd.to_datetime(all_dataframes[i][\"Date\"].astype(str) +\" \"+all_dataframes[i][\"time\"].astype(str))\n",
    "            all_dataframes[i]=all_dataframes[i].drop(columns =[\"HH\", \"MM\", \"Date\",\"time\"])\n",
    "            \n",
    "    return all_dataframes\n",
    "\n",
    "def custom_combine(empty , merged_data, columns):\n",
    "    \n",
    "    empty[\"Datetime\"] = merged_data[0][\"Datetime\"]\n",
    "    empty[columns[0]] = merged_data[0][\"ta\"]\n",
    "    empty[columns[1]] = merged_data[1][\"ta\"]\n",
    "    empty[columns[2]] = merged_data[2][\"ta\"]\n",
    "    empty[columns[3]] = merged_data[3][\"ta\"]\n",
    "    \n",
    "    return empty"
   ]
  },
  {
   "cell_type": "code",
   "execution_count": 5,
   "id": "4b17c3c4",
   "metadata": {},
   "outputs": [],
   "source": [
    "def read_Dat(address):\n",
    "    onlyfiles = [f for f in listdir(address) if isfile(join(address, f))]\n",
    "    print(f\"Location of file: {address} \\n\")\n",
    "    files = []\n",
    "\n",
    "    for x in onlyfiles:\n",
    "        files.append(x[:-4])\n",
    "    print('The following .Dat files are foud:')\n",
    "    for k in files:\n",
    "        print(k)\n",
    "    \n",
    "    print('\\n\\n')\n",
    "    print('The all_dataframes variable is a array containing all the dataframes numbered from 0 to some value.\\n')\n",
    "    number_of_files = len(files)\n",
    "        \n",
    "    all_dataframes = []\n",
    "    \n",
    "    for i in range(0, number_of_files):\n",
    "        x =  \"df%s\" %i\n",
    "        print('all_dataframes[%d] represents %s' %(i,files[i]))\n",
    "\n",
    "        x =  pd.read_csv(\"%s/%s.DAT\" %(address, files[i]), delimiter=';', skiprows = 0, usecols = [\"yyyy\" ,\"mm\" ,\"dd\" ,\"HH\" ,\"MM\" ,\"ta\"],parse_dates={'Date': ['yyyy', 'mm', 'dd']}, index_col = False)\n",
    "        all_dataframes.append(x)\n",
    "    \n",
    "    print('\\nColumn format: YYYY|mm|dd|HH|MM|ta|\\n')\n",
    "    \n",
    "    \n",
    "    \n",
    "    custom_definition(all_dataframes, number_of_files)\n",
    "    \n",
    "    print('Exhibiting first dataset:')\n",
    "    print(all_dataframes[0])\n",
    "\n",
    "    return all_dataframes\n",
    "\n",
    "    "
   ]
  },
  {
   "cell_type": "code",
   "execution_count": null,
   "id": "87ffff14",
   "metadata": {},
   "outputs": [],
   "source": []
  },
  {
   "cell_type": "code",
   "execution_count": null,
   "id": "7956467f",
   "metadata": {},
   "outputs": [],
   "source": []
  }
 ],
 "metadata": {
  "kernelspec": {
   "display_name": "Python 3 (ipykernel)",
   "language": "python",
   "name": "python3"
  },
  "language_info": {
   "codemirror_mode": {
    "name": "ipython",
    "version": 3
   },
   "file_extension": ".py",
   "mimetype": "text/x-python",
   "name": "python",
   "nbconvert_exporter": "python",
   "pygments_lexer": "ipython3",
   "version": "3.9.12"
  }
 },
 "nbformat": 4,
 "nbformat_minor": 5
}
