{
 "cells": [
  {
   "cell_type": "code",
   "execution_count": null,
   "id": "d3c65178",
   "metadata": {},
   "outputs": [],
   "source": []
  },
  {
   "cell_type": "code",
   "execution_count": null,
   "id": "f86febf1",
   "metadata": {
    "lines_to_next_cell": 2
   },
   "outputs": [],
   "source": [
    "\n",
    "\n",
    "from os import listdir\n",
    "from os.path import isfile, join\n",
    "\n",
    "import pandas as pd\n",
    "import matplotlib.pyplot as plt\n",
    "import numpy as np\n",
    "\n",
    "from termcolor import colored"
   ]
  },
  {
   "cell_type": "code",
   "execution_count": null,
   "id": "ccc910e1",
   "metadata": {
    "lines_to_next_cell": 2
   },
   "outputs": [],
   "source": [
    "\n",
    "\n",
    "def full_print(dataframe):\n",
    "    with pd.option_context('display.max_rows', None, 'display.max_columns', None):  # more options can be specified also\n",
    "\n",
    "        print(dataframe)\n",
    "        \n",
    "    return None"
   ]
  },
  {
   "cell_type": "code",
   "execution_count": null,
   "id": "5400029c",
   "metadata": {
    "lines_to_next_cell": 2
   },
   "outputs": [],
   "source": [
    "\n",
    "\n",
    "def vertical_merge_test(all_dataframe,frequency):\n",
    "\n",
    "    df_merge = []\n",
    "    number_of_datasets = len(all_dataframe)\n",
    "    j=0\n",
    "    size = np.empty(number_of_datasets)\n",
    "    \n",
    "    for j in all_dataframe:\n",
    "        np.append(size, len(j))\n",
    "        \n",
    "    lowest_index = np.argmin(size)\n",
    "    \n",
    "    print('Dataframe with shortest index:\\n')\n",
    "    print(all_dataframe[lowest_index])\n",
    "    \n",
    "    print(Defin)\n",
    "    \n",
    "    for k in range(0,number_of_datasets):\n",
    "        all_dataframe[k] = all_dataframe[all_dataframe.Datetime.between(\"2022-07-01 00:00:00\", \"2022-09-24 14:50:00\")]\n",
    "\n",
    "    i = 0\n",
    "    for i in np.arange(0,number_of_datasets,frequency):\n",
    "        df_merge.append(pd.concat(all_dataframe[i:i+frequency]))\n",
    "\n",
    "    return df_merge\n",
    "\n",
    "\n",
    "\n",
    "\n",
    "\n",
    "        \n",
    "       \n",
    "    \n",
    "    return df_merge"
   ]
  },
  {
   "cell_type": "code",
   "execution_count": null,
   "id": "16c809e5",
   "metadata": {
    "lines_to_next_cell": 2
   },
   "outputs": [],
   "source": [
    "\n",
    "\n",
    "def custom_definition(all_dataframes, number_of_files):\n",
    "    \n",
    "    print('Forming Datetime column by combining different columns. Building block(columns) are then removed.')\n",
    "\n",
    "    for i in range(0,number_of_files):\n",
    "            all_dataframes[i][\"time\"] = (pd.to_datetime(all_dataframes[i]['HH'].astype(str) + ':' + all_dataframes[i]['MM'].astype(str), format='%H:%M').dt.time)\n",
    "            all_dataframes[i][\"Datetime\"] = pd.to_datetime(all_dataframes[i][\"Date\"].astype(str) +\" \"+all_dataframes[i][\"time\"].astype(str))\n",
    "            all_dataframes[i]=all_dataframes[i].drop(columns =[\"HH\", \"MM\", \"Date\",\"time\"])\n",
    "            \n",
    "    return all_dataframes\n",
    "\n",
    "\n",
    "\n",
    "def custom_combine(empty, merged_data, columns):\n",
    "\n",
    "    empty[\"Datetime\"] = merged_data[0][\"Datetime\"]\n",
    "    for j in range(0, len(columns)):\n",
    "        empty[columns[j]] = merged_data[j][\"ta\"]\n",
    "\n",
    "    return empty"
   ]
  },
  {
   "cell_type": "code",
   "execution_count": null,
   "id": "917d4475",
   "metadata": {},
   "outputs": [],
   "source": [
    "\n",
    "\n",
    "def read_Dat(address):\n",
    "    onlyfiles = [f for f in listdir(address) if isfile(join(address, f))]\n",
    "    print(f\"Location of file: {address} \\n\")\n",
    "    files = []\n",
    "\n",
    "    for x in onlyfiles:\n",
    "        files.append(x[:-4])\n",
    "    print('The following .Dat files are foud:')\n",
    "    for k in files:\n",
    "        print(k)\n",
    "    \n",
    "    print('\\n\\n')\n",
    "    print('The all_dataframes variable is a array containing all the dataframes numbered from 0 to some value.\\n')\n",
    "    number_of_files = len(files)\n",
    "        \n",
    "    all_dataframes = []\n",
    "    \n",
    "    for i in range(0, number_of_files):\n",
    "        x =  \"df%s\" %i\n",
    "        print('all_dataframes[%d] represents %s' %(i,files[i]))\n",
    "\n",
    "        x =  pd.read_csv(\"%s/%s.DAT\" %(address, files[i]), delimiter=';', skiprows = 0, usecols = [\"yyyy\" ,\"mm\" ,\"dd\" ,\"HH\" ,\"MM\" ,\"ta\"],parse_dates={'Date': ['yyyy', 'mm', 'dd']}, index_col = False)\n",
    "        all_dataframes.append(x)\n",
    "    \n",
    "    print('\\nColumn format: YYYY|mm|dd|HH|MM|ta|\\n')\n",
    "    \n",
    "    \n",
    "    \n",
    "    custom_definition(all_dataframes, number_of_files)\n",
    "    \n",
    "    print('Exhibiting first dataset:')\n",
    "    print(all_dataframes[0])\n",
    "\n",
    "    return all_dataframes\n",
    "\n",
    "    \n"
   ]
  },
  {
   "cell_type": "code",
   "execution_count": null,
   "id": "a5466145",
   "metadata": {},
   "outputs": [],
   "source": [
    "\n",
    "\n",
    "\n"
   ]
  },
  {
   "cell_type": "code",
   "execution_count": null,
   "id": "2a059b5c",
   "metadata": {
    "lines_to_next_cell": 2
   },
   "outputs": [],
   "source": [
    "\n",
    "\n"
   ]
  }
 ],
 "metadata": {
  "jupytext": {
   "cell_metadata_filter": "-all",
   "encoding": "# coding: utf-8",
   "executable": "/usr/bin/env python",
   "main_language": "python",
   "notebook_metadata_filter": "-all"
  }
 },
 "nbformat": 4,
 "nbformat_minor": 5
}
